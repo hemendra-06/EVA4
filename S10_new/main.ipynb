{
  "nbformat": 4,
  "nbformat_minor": 0,
  "metadata": {
    "kernelspec": {
      "name": "python3",
      "display_name": "Python 3"
    },
    "language_info": {
      "codemirror_mode": {
        "name": "ipython",
        "version": 3
      },
      "file_extension": ".py",
      "mimetype": "text/x-python",
      "name": "python",
      "nbconvert_exporter": "python",
      "pygments_lexer": "ipython3",
      "version": "3.6.6"
    },
    "colab": {
      "name": "main.ipynb",
      "provenance": [],
      "collapsed_sections": []
    },
    "accelerator": "GPU"
  },
  "cells": [
    {
      "cell_type": "code",
      "metadata": {
        "id": "D1_1Wc6EWCQz",
        "colab_type": "code",
        "outputId": "7f47b15f-4396-4412-a0f1-5077c4cc94d2",
        "colab": {
          "base_uri": "https://localhost:8080/",
          "height": 34
        }
      },
      "source": [
        "from google.colab import drive\n",
        "drive.mount('/content/drive')"
      ],
      "execution_count": 1,
      "outputs": [
        {
          "output_type": "stream",
          "text": [
            "Drive already mounted at /content/drive; to attempt to forcibly remount, call drive.mount(\"/content/drive\", force_remount=True).\n"
          ],
          "name": "stdout"
        }
      ]
    },
    {
      "cell_type": "code",
      "metadata": {
        "id": "_LEDV7KWWNK2",
        "colab_type": "code",
        "outputId": "f40801a7-d993-49a5-a7ce-b8a4229612a4",
        "colab": {
          "base_uri": "https://localhost:8080/",
          "height": 34
        }
      },
      "source": [
        "cd \"/content/drive/My Drive/EVA4/Notebooks/S10\""
      ],
      "execution_count": 2,
      "outputs": [
        {
          "output_type": "stream",
          "text": [
            "/content/drive/My Drive/EVA4/Notebooks/S10\n"
          ],
          "name": "stdout"
        }
      ]
    },
    {
      "cell_type": "code",
      "metadata": {
        "id": "_VoF6ZDlSTQA",
        "colab_type": "code",
        "colab": {
          "base_uri": "https://localhost:8080/",
          "height": 339
        },
        "outputId": "dd4a1605-6c36-41db-953a-b19c0e96a4d9"
      },
      "source": [
        "!pip install albumentations"
      ],
      "execution_count": 3,
      "outputs": [
        {
          "output_type": "stream",
          "text": [
            "Requirement already satisfied: albumentations in /usr/local/lib/python3.6/dist-packages (0.1.12)\n",
            "Requirement already satisfied: scipy in /usr/local/lib/python3.6/dist-packages (from albumentations) (1.4.1)\n",
            "Requirement already satisfied: numpy>=1.11.1 in /usr/local/lib/python3.6/dist-packages (from albumentations) (1.18.2)\n",
            "Requirement already satisfied: imgaug<0.2.7,>=0.2.5 in /usr/local/lib/python3.6/dist-packages (from albumentations) (0.2.6)\n",
            "Requirement already satisfied: opencv-python in /usr/local/lib/python3.6/dist-packages (from albumentations) (4.1.2.30)\n",
            "Requirement already satisfied: six in /usr/local/lib/python3.6/dist-packages (from imgaug<0.2.7,>=0.2.5->albumentations) (1.12.0)\n",
            "Requirement already satisfied: scikit-image>=0.11.0 in /usr/local/lib/python3.6/dist-packages (from imgaug<0.2.7,>=0.2.5->albumentations) (0.16.2)\n",
            "Requirement already satisfied: networkx>=2.0 in /usr/local/lib/python3.6/dist-packages (from scikit-image>=0.11.0->imgaug<0.2.7,>=0.2.5->albumentations) (2.4)\n",
            "Requirement already satisfied: matplotlib!=3.0.0,>=2.0.0 in /usr/local/lib/python3.6/dist-packages (from scikit-image>=0.11.0->imgaug<0.2.7,>=0.2.5->albumentations) (3.2.1)\n",
            "Requirement already satisfied: PyWavelets>=0.4.0 in /usr/local/lib/python3.6/dist-packages (from scikit-image>=0.11.0->imgaug<0.2.7,>=0.2.5->albumentations) (1.1.1)\n",
            "Requirement already satisfied: pillow>=4.3.0 in /usr/local/lib/python3.6/dist-packages (from scikit-image>=0.11.0->imgaug<0.2.7,>=0.2.5->albumentations) (7.0.0)\n",
            "Requirement already satisfied: imageio>=2.3.0 in /usr/local/lib/python3.6/dist-packages (from scikit-image>=0.11.0->imgaug<0.2.7,>=0.2.5->albumentations) (2.4.1)\n",
            "Requirement already satisfied: decorator>=4.3.0 in /usr/local/lib/python3.6/dist-packages (from networkx>=2.0->scikit-image>=0.11.0->imgaug<0.2.7,>=0.2.5->albumentations) (4.4.2)\n",
            "Requirement already satisfied: cycler>=0.10 in /usr/local/lib/python3.6/dist-packages (from matplotlib!=3.0.0,>=2.0.0->scikit-image>=0.11.0->imgaug<0.2.7,>=0.2.5->albumentations) (0.10.0)\n",
            "Requirement already satisfied: pyparsing!=2.0.4,!=2.1.2,!=2.1.6,>=2.0.1 in /usr/local/lib/python3.6/dist-packages (from matplotlib!=3.0.0,>=2.0.0->scikit-image>=0.11.0->imgaug<0.2.7,>=0.2.5->albumentations) (2.4.6)\n",
            "Requirement already satisfied: kiwisolver>=1.0.1 in /usr/local/lib/python3.6/dist-packages (from matplotlib!=3.0.0,>=2.0.0->scikit-image>=0.11.0->imgaug<0.2.7,>=0.2.5->albumentations) (1.1.0)\n",
            "Requirement already satisfied: python-dateutil>=2.1 in /usr/local/lib/python3.6/dist-packages (from matplotlib!=3.0.0,>=2.0.0->scikit-image>=0.11.0->imgaug<0.2.7,>=0.2.5->albumentations) (2.8.1)\n",
            "Requirement already satisfied: setuptools in /usr/local/lib/python3.6/dist-packages (from kiwisolver>=1.0.1->matplotlib!=3.0.0,>=2.0.0->scikit-image>=0.11.0->imgaug<0.2.7,>=0.2.5->albumentations) (46.0.0)\n"
          ],
          "name": "stdout"
        }
      ]
    },
    {
      "cell_type": "code",
      "metadata": {
        "id": "iE2pRQzcpFHS",
        "colab_type": "code",
        "colab": {
          "base_uri": "https://localhost:8080/",
          "height": 50
        },
        "outputId": "f6a6db48-8a1c-4706-9d2e-c83ef0dc4d5d"
      },
      "source": [
        "from vision import dataloaders\n",
        "from vision.utils import Helper\n",
        "from vision.models.resnet import ResNet18\n",
        "from vision.imagetransforms import TorchTransforms,  album_transforms\n",
        "import torch\n",
        "from torchvision import  transforms\n",
        "import numpy as np\n",
        "%matplotlib inline\n",
        "import matplotlib.pyplot as plt\n",
        "import torch.optim as optim\n",
        "import torch.nn as nn\n",
        "from vision.train_test_model import RunModel\n",
        "from vision.lr_finder import LRFinder\n",
        "from torch.optim.lr_scheduler import ReduceLROnPlateau\n",
        "from vision import plot_grad\n",
        "from vision import train_test_model"
      ],
      "execution_count": 4,
      "outputs": [
        {
          "output_type": "stream",
          "text": [
            "WARNING:vision.lr_finder:To enable mixed precision training, please install `apex`. Or you can re-install this package by the following command:\n",
            "  pip install torch-lr-finder -v --global-option=\"amp\"\n"
          ],
          "name": "stderr"
        }
      ]
    },
    {
      "cell_type": "code",
      "metadata": {
        "id": "EsLVoButs4AQ",
        "colab_type": "code",
        "colab": {}
      },
      "source": [
        "helper = Helper()"
      ],
      "execution_count": 0,
      "outputs": []
    },
    {
      "cell_type": "code",
      "metadata": {
        "id": "yZugrTucs1dO",
        "colab_type": "code",
        "colab": {
          "base_uri": "https://localhost:8080/",
          "height": 34
        },
        "outputId": "a67acc89-0696-40f4-fd8b-14c8ab6e64d4"
      },
      "source": [
        "mean, std = helper.get_mean_and_std('cifar10')\n",
        "# mean, std = (0.5, 0.5, 0.5), (0.5, 0.5, 0.5)"
      ],
      "execution_count": 6,
      "outputs": [
        {
          "output_type": "stream",
          "text": [
            "Files already downloaded and verified\n"
          ],
          "name": "stdout"
        }
      ]
    },
    {
      "cell_type": "code",
      "metadata": {
        "id": "wFfUJFEAPsWV",
        "colab_type": "code",
        "colab": {}
      },
      "source": [
        "# mean = np.array([0.4914, 0.4822, 0.4465])\n",
        "# std = np.array([0.2023, 0.1994, 0.2010])"
      ],
      "execution_count": 0,
      "outputs": []
    },
    {
      "cell_type": "code",
      "metadata": {
        "id": "i4gcGr80X96Q",
        "colab_type": "code",
        "outputId": "41ee367c-46df-4743-ae10-d33207112dc1",
        "colab": {
          "base_uri": "https://localhost:8080/",
          "height": 50
        }
      },
      "source": [
        "mean, std"
      ],
      "execution_count": 8,
      "outputs": [
        {
          "output_type": "execute_result",
          "data": {
            "text/plain": [
              "(array([0.49139968, 0.48215841, 0.44653091]),\n",
              " array([0.24703223, 0.24348513, 0.26158784]))"
            ]
          },
          "metadata": {
            "tags": []
          },
          "execution_count": 8
        }
      ]
    },
    {
      "cell_type": "code",
      "metadata": {
        "id": "03_cWGpN0JaP",
        "colab_type": "code",
        "colab": {}
      },
      "source": [
        "test_transforms = [ transforms.ToTensor(),\n",
        "                    transforms.Normalize(mean, std)\n",
        "                  ]"
      ],
      "execution_count": 0,
      "outputs": []
    },
    {
      "cell_type": "code",
      "metadata": {
        "id": "NgnEynj90-Q_",
        "colab_type": "code",
        "colab": {}
      },
      "source": [
        "torch_transforms = TorchTransforms(test_transforms)"
      ],
      "execution_count": 0,
      "outputs": []
    },
    {
      "cell_type": "code",
      "metadata": {
        "id": "G_ataeJk1B0Q",
        "colab_type": "code",
        "colab": {
          "base_uri": "https://localhost:8080/",
          "height": 34
        },
        "outputId": "a6b27f23-1084-4071-be3c-eb912b77b052"
      },
      "source": [
        "aub = album_transforms()"
      ],
      "execution_count": 11,
      "outputs": [
        {
          "output_type": "stream",
          "text": [
            "Files already downloaded and verified\n"
          ],
          "name": "stdout"
        }
      ]
    },
    {
      "cell_type": "code",
      "metadata": {
        "id": "Q7GsqZhLHe-5",
        "colab_type": "code",
        "colab": {}
      },
      "source": [
        "train_transforms = aub\n",
        "test_transforms = torch_transforms.testTransform()\n",
        "loader = dataloaders.Loader(train_transforms, test_transforms, 'cifar10')"
      ],
      "execution_count": 0,
      "outputs": []
    },
    {
      "cell_type": "code",
      "metadata": {
        "id": "SZtCVQ-3KXwt",
        "colab_type": "code",
        "outputId": "1ad2feee-5b72-4378-832c-6644d2289f24",
        "colab": {
          "base_uri": "https://localhost:8080/",
          "height": 67
        }
      },
      "source": [
        "train_dataloader  = loader.dataloader_train()\n",
        "test_dataloader = loader.dataloader_test()\n",
        "gradcam_dataloader = loader.dataloader_gradcam()"
      ],
      "execution_count": 13,
      "outputs": [
        {
          "output_type": "stream",
          "text": [
            "Files already downloaded and verified\n",
            "Files already downloaded and verified\n",
            "Files already downloaded and verified\n"
          ],
          "name": "stdout"
        }
      ]
    },
    {
      "cell_type": "code",
      "metadata": {
        "id": "KJGUCt-ApH8T",
        "colab_type": "code",
        "colab": {}
      },
      "source": [
        "Net = ResNet18()"
      ],
      "execution_count": 0,
      "outputs": []
    },
    {
      "cell_type": "code",
      "metadata": {
        "id": "DxFaKebxOpUi",
        "colab_type": "code",
        "colab": {}
      },
      "source": [
        "# size =  (3, 32, 32)\n",
        "# helper.model_summary(Net, size)"
      ],
      "execution_count": 0,
      "outputs": []
    },
    {
      "cell_type": "code",
      "metadata": {
        "colab_type": "code",
        "id": "1_MnfOOyIkPK",
        "colab": {}
      },
      "source": [
        "# L2 = 1e-4\n",
        "# criterion = nn.CrossEntropyLoss()\n",
        "# optimizer = optim.SGD(Net.parameters(), lr=1e-8,momentum=0.9, weight_decay=L2)#, nesterov=True)\n",
        "# lr_finder = LRFinder(Net, optimizer, criterion, device=\"cuda\")\n",
        "# lr_finder.range_test(train_dataloader, val_loader=test_dataloader, end_lr=1, num_iter=800, step_mode=\"exp\")\n",
        "# lr_finder.plot() \n",
        "# lr_finder.reset()"
      ],
      "execution_count": 0,
      "outputs": []
    },
    {
      "cell_type": "code",
      "metadata": {
        "id": "ljHYsfwNekC4",
        "colab_type": "code",
        "colab": {}
      },
      "source": [
        "## Best_lr = lr_finder.history['lr'][lr_finder.history['loss'].index(lr_finder.best_loss)]"
      ],
      "execution_count": 0,
      "outputs": []
    },
    {
      "cell_type": "code",
      "metadata": {
        "id": "Xis0vL_IgkT2",
        "colab_type": "code",
        "colab": {}
      },
      "source": [
        "# loss = lr_finder.history['loss']\n",
        "# lr = lr_finder.history['lr']\n",
        "# Best_lr=lr[loss.index(min(loss))]\n"
      ],
      "execution_count": 0,
      "outputs": []
    },
    {
      "cell_type": "code",
      "metadata": {
        "id": "D5Aplji3aAKt",
        "colab_type": "code",
        "colab": {}
      },
      "source": [
        "Best_lr = 0.000248313310529557"
      ],
      "execution_count": 0,
      "outputs": []
    },
    {
      "cell_type": "code",
      "metadata": {
        "id": "7A7LgBoKgypA",
        "colab_type": "code",
        "outputId": "374364b3-55e2-4185-c242-09545b8e431f",
        "colab": {
          "base_uri": "https://localhost:8080/",
          "height": 34
        }
      },
      "source": [
        "Best_lr"
      ],
      "execution_count": 19,
      "outputs": [
        {
          "output_type": "execute_result",
          "data": {
            "text/plain": [
              "0.000248313310529557"
            ]
          },
          "metadata": {
            "tags": []
          },
          "execution_count": 19
        }
      ]
    },
    {
      "cell_type": "code",
      "metadata": {
        "id": "baziw2lpwzly",
        "colab_type": "code",
        "colab": {}
      },
      "source": [
        "# 0.000248313310529557 new\n",
        "# 0.0018127308811846986\n",
        "#  0.0039810717055349725\n",
        "# 0.0002772407996741775\n",
        "# 0.003228004742743393"
      ],
      "execution_count": 0,
      "outputs": []
    },
    {
      "cell_type": "code",
      "metadata": {
        "id": "VEFdfIs5eugZ",
        "colab_type": "code",
        "colab": {}
      },
      "source": [
        "epochs = 50\n",
        "# L1 = 0.001\n",
        "L1 = 0\n",
        "L2 = 1e-4\n",
        "criterion = nn.CrossEntropyLoss()\n",
        "optimizer = optim.SGD(Net.parameters(), lr=Best_lr,momentum=0.9, weight_decay=L2)#, nesterov=True)\n",
        "# scheduler = ReduceLROnPlateau(optimizer, factor=0.1, patience = 2,min_lr=1e-5)\n",
        "scheduler = ReduceLROnPlateau(optimizer, mode='min', factor=0.5, patience=3, verbose=False, threshold=0.0001, threshold_mode='rel', cooldown=0, min_lr=0, eps=1e-08)"
      ],
      "execution_count": 0,
      "outputs": []
    },
    {
      "cell_type": "code",
      "metadata": {
        "id": "ol7s7e-5Q3V1",
        "colab_type": "code",
        "colab": {}
      },
      "source": [
        "# run = RunModel(Net, train_dataloader, test_dataloader, optimizer, scheduler, epochs, L1, criterion=criterion)\n",
        "# run.train_test()"
      ],
      "execution_count": 0,
      "outputs": []
    },
    {
      "cell_type": "markdown",
      "metadata": {
        "id": "cygjmE-546Dz",
        "colab_type": "text"
      },
      "source": [
        "Modified"
      ]
    },
    {
      "cell_type": "code",
      "metadata": {
        "id": "4YYhbRbB6HC5",
        "colab_type": "code",
        "colab": {}
      },
      "source": [
        "use_cuda = torch.cuda.is_available()\n",
        "device = torch.device(\"cuda\" if use_cuda else \"cpu\")"
      ],
      "execution_count": 0,
      "outputs": []
    },
    {
      "cell_type": "code",
      "metadata": {
        "id": "OD7AiWE845u6",
        "colab_type": "code",
        "colab": {
          "base_uri": "https://localhost:8080/",
          "height": 1000
        },
        "outputId": "9a59e695-967c-4234-9731-d87104877814"
      },
      "source": [
        "test_acc = []\n",
        "train_acc = []\n",
        "trainloss_ = []\n",
        "testloss_ = []\n",
        "losses = []\n",
        "accuracies = []\n",
        "\n",
        "epochs = 50\n",
        "for epoch in range(1, epochs + 1):\n",
        "    for param_group in optimizer.param_groups:\n",
        "      print(\"lr= \",param_group['lr'])\n",
        "    print(f'Epoch {epoch}:')\n",
        "    trainacc, loss = train_test_model.train(Net, train_dataloader, device, optimizer, criterion)\n",
        "    train_acc.append(trainacc)\n",
        "    testacc, loss1 = train_test_model.val(Net, test_dataloader, device, criterion, losses, accuracies)\n",
        "    test_acc.append(testacc)\n",
        "    trainloss_.append(loss)\n",
        "    testloss_.append(loss1)\n",
        "    scheduler.step(loss1)\n",
        "print('Finished Training')"
      ],
      "execution_count": 0,
      "outputs": [
        {
          "output_type": "stream",
          "text": [
            "lr=  0.000248313310529557\n",
            "Epoch 1:\n",
            "---------\n"
          ],
          "name": "stdout"
        },
        {
          "output_type": "stream",
          "text": [
            "Loss=1.75 Accuracy=42.04: 100%|██████████| 1563/1563 [00:44<00:00, 35.14it/s]\n",
            "  0%|          | 0/1563 [00:00<?, ?it/s]"
          ],
          "name": "stderr"
        },
        {
          "output_type": "stream",
          "text": [
            "Testing: Average loss: 0.0390, Accuracy: 5458/10000 (54.58%)\n",
            "\n",
            "lr=  0.000248313310529557\n",
            "Epoch 2:\n",
            "---------\n"
          ],
          "name": "stdout"
        },
        {
          "output_type": "stream",
          "text": [
            "Loss=1.53 Accuracy=57.13: 100%|██████████| 1563/1563 [00:44<00:00, 34.80it/s]\n",
            "  0%|          | 0/1563 [00:00<?, ?it/s]"
          ],
          "name": "stderr"
        },
        {
          "output_type": "stream",
          "text": [
            "Testing: Average loss: 0.0314, Accuracy: 6433/10000 (64.33%)\n",
            "\n",
            "lr=  0.000248313310529557\n",
            "Epoch 3:\n",
            "---------\n"
          ],
          "name": "stdout"
        },
        {
          "output_type": "stream",
          "text": [
            "Loss=1.23 Accuracy=64.81: 100%|██████████| 1563/1563 [00:44<00:00, 34.85it/s]\n",
            "  0%|          | 0/1563 [00:00<?, ?it/s]"
          ],
          "name": "stderr"
        },
        {
          "output_type": "stream",
          "text": [
            "Testing: Average loss: 0.0278, Accuracy: 6844/10000 (68.44%)\n",
            "\n",
            "lr=  0.000248313310529557\n",
            "Epoch 4:\n",
            "---------\n"
          ],
          "name": "stdout"
        },
        {
          "output_type": "stream",
          "text": [
            "Loss=1.12 Accuracy=69.91: 100%|██████████| 1563/1563 [00:45<00:00, 34.66it/s]\n",
            "  0%|          | 0/1563 [00:00<?, ?it/s]"
          ],
          "name": "stderr"
        },
        {
          "output_type": "stream",
          "text": [
            "Testing: Average loss: 0.0249, Accuracy: 7229/10000 (72.29%)\n",
            "\n",
            "lr=  0.000248313310529557\n",
            "Epoch 5:\n",
            "---------\n"
          ],
          "name": "stdout"
        },
        {
          "output_type": "stream",
          "text": [
            "Loss=0.79 Accuracy=74.02: 100%|██████████| 1563/1563 [00:45<00:00, 34.54it/s]\n",
            "  0%|          | 0/1563 [00:00<?, ?it/s]"
          ],
          "name": "stderr"
        },
        {
          "output_type": "stream",
          "text": [
            "Testing: Average loss: 0.0223, Accuracy: 7532/10000 (75.32%)\n",
            "\n",
            "lr=  0.000248313310529557\n",
            "Epoch 6:\n",
            "---------\n"
          ],
          "name": "stdout"
        },
        {
          "output_type": "stream",
          "text": [
            "Loss=0.81 Accuracy=76.96: 100%|██████████| 1563/1563 [00:45<00:00, 34.70it/s]\n",
            "  0%|          | 0/1563 [00:00<?, ?it/s]"
          ],
          "name": "stderr"
        },
        {
          "output_type": "stream",
          "text": [
            "Testing: Average loss: 0.0207, Accuracy: 7691/10000 (76.91%)\n",
            "\n",
            "lr=  0.000248313310529557\n",
            "Epoch 7:\n",
            "---------\n"
          ],
          "name": "stdout"
        },
        {
          "output_type": "stream",
          "text": [
            "Loss=0.62 Accuracy=79.88: 100%|██████████| 1563/1563 [00:45<00:00, 34.61it/s]\n",
            "  0%|          | 0/1563 [00:00<?, ?it/s]"
          ],
          "name": "stderr"
        },
        {
          "output_type": "stream",
          "text": [
            "Testing: Average loss: 0.0207, Accuracy: 7720/10000 (77.20%)\n",
            "\n",
            "lr=  0.000248313310529557\n",
            "Epoch 8:\n",
            "---------\n"
          ],
          "name": "stdout"
        },
        {
          "output_type": "stream",
          "text": [
            "Loss=0.71 Accuracy=82.00: 100%|██████████| 1563/1563 [00:44<00:00, 34.89it/s]\n",
            "  0%|          | 0/1563 [00:00<?, ?it/s]"
          ],
          "name": "stderr"
        },
        {
          "output_type": "stream",
          "text": [
            "Testing: Average loss: 0.0197, Accuracy: 7858/10000 (78.58%)\n",
            "\n",
            "lr=  0.000248313310529557\n",
            "Epoch 9:\n",
            "---------\n"
          ],
          "name": "stdout"
        },
        {
          "output_type": "stream",
          "text": [
            "Loss=0.53 Accuracy=83.97: 100%|██████████| 1563/1563 [00:44<00:00, 34.82it/s]\n",
            "  0%|          | 0/1563 [00:00<?, ?it/s]"
          ],
          "name": "stderr"
        },
        {
          "output_type": "stream",
          "text": [
            "Testing: Average loss: 0.0196, Accuracy: 7934/10000 (79.34%)\n",
            "\n",
            "lr=  0.000248313310529557\n",
            "Epoch 10:\n",
            "---------\n"
          ],
          "name": "stdout"
        },
        {
          "output_type": "stream",
          "text": [
            "Loss=0.33 Accuracy=85.49: 100%|██████████| 1563/1563 [00:44<00:00, 34.77it/s]\n",
            "  0%|          | 0/1563 [00:00<?, ?it/s]"
          ],
          "name": "stderr"
        },
        {
          "output_type": "stream",
          "text": [
            "Testing: Average loss: 0.0189, Accuracy: 8011/10000 (80.11%)\n",
            "\n",
            "lr=  0.000248313310529557\n",
            "Epoch 11:\n",
            "---------\n"
          ],
          "name": "stdout"
        },
        {
          "output_type": "stream",
          "text": [
            "Loss=0.46 Accuracy=87.40: 100%|██████████| 1563/1563 [00:44<00:00, 34.88it/s]\n",
            "  0%|          | 0/1563 [00:00<?, ?it/s]"
          ],
          "name": "stderr"
        },
        {
          "output_type": "stream",
          "text": [
            "Testing: Average loss: 0.0180, Accuracy: 8104/10000 (81.04%)\n",
            "\n",
            "lr=  0.000248313310529557\n",
            "Epoch 12:\n",
            "---------\n"
          ],
          "name": "stdout"
        },
        {
          "output_type": "stream",
          "text": [
            "Loss=0.43 Accuracy=88.54: 100%|██████████| 1563/1563 [00:45<00:00, 34.68it/s]\n",
            "  0%|          | 0/1563 [00:00<?, ?it/s]"
          ],
          "name": "stderr"
        },
        {
          "output_type": "stream",
          "text": [
            "Testing: Average loss: 0.0185, Accuracy: 8081/10000 (80.81%)\n",
            "\n",
            "lr=  0.000248313310529557\n",
            "Epoch 13:\n",
            "---------\n"
          ],
          "name": "stdout"
        },
        {
          "output_type": "stream",
          "text": [
            "Loss=0.11 Accuracy=89.78: 100%|██████████| 1563/1563 [00:44<00:00, 34.80it/s]\n",
            "  0%|          | 0/1563 [00:00<?, ?it/s]"
          ],
          "name": "stderr"
        },
        {
          "output_type": "stream",
          "text": [
            "Testing: Average loss: 0.0181, Accuracy: 8159/10000 (81.59%)\n",
            "\n",
            "lr=  0.000248313310529557\n",
            "Epoch 14:\n",
            "---------\n"
          ],
          "name": "stdout"
        },
        {
          "output_type": "stream",
          "text": [
            "Loss=0.29 Accuracy=91.05: 100%|██████████| 1563/1563 [00:44<00:00, 34.94it/s]\n",
            "  0%|          | 0/1563 [00:00<?, ?it/s]"
          ],
          "name": "stderr"
        },
        {
          "output_type": "stream",
          "text": [
            "Testing: Average loss: 0.0186, Accuracy: 8142/10000 (81.42%)\n",
            "\n",
            "lr=  0.000248313310529557\n",
            "Epoch 15:\n",
            "---------\n"
          ],
          "name": "stdout"
        },
        {
          "output_type": "stream",
          "text": [
            "Loss=0.26 Accuracy=91.91: 100%|██████████| 1563/1563 [00:45<00:00, 34.64it/s]\n",
            "  0%|          | 0/1563 [00:00<?, ?it/s]"
          ],
          "name": "stderr"
        },
        {
          "output_type": "stream",
          "text": [
            "Testing: Average loss: 0.0194, Accuracy: 8128/10000 (81.28%)\n",
            "\n",
            "lr=  0.0001241566552647785\n",
            "Epoch 16:\n",
            "---------\n"
          ],
          "name": "stdout"
        },
        {
          "output_type": "stream",
          "text": [
            "Loss=0.08 Accuracy=94.51: 100%|██████████| 1563/1563 [00:44<00:00, 34.92it/s]\n",
            "  0%|          | 0/1563 [00:00<?, ?it/s]"
          ],
          "name": "stderr"
        },
        {
          "output_type": "stream",
          "text": [
            "Testing: Average loss: 0.0175, Accuracy: 8271/10000 (82.71%)\n",
            "\n",
            "lr=  0.0001241566552647785\n",
            "Epoch 17:\n",
            "---------\n"
          ],
          "name": "stdout"
        },
        {
          "output_type": "stream",
          "text": [
            "Loss=0.05 Accuracy=95.54: 100%|██████████| 1563/1563 [00:44<00:00, 34.91it/s]\n",
            "  0%|          | 0/1563 [00:00<?, ?it/s]"
          ],
          "name": "stderr"
        },
        {
          "output_type": "stream",
          "text": [
            "Testing: Average loss: 0.0173, Accuracy: 8351/10000 (83.51%)\n",
            "\n",
            "lr=  0.0001241566552647785\n",
            "Epoch 18:\n",
            "---------\n"
          ],
          "name": "stdout"
        },
        {
          "output_type": "stream",
          "text": [
            "Loss=0.05 Accuracy=96.09: 100%|██████████| 1563/1563 [00:45<00:00, 34.73it/s]\n",
            "  0%|          | 0/1563 [00:00<?, ?it/s]"
          ],
          "name": "stderr"
        },
        {
          "output_type": "stream",
          "text": [
            "Testing: Average loss: 0.0173, Accuracy: 8377/10000 (83.77%)\n",
            "\n",
            "lr=  0.0001241566552647785\n",
            "Epoch 19:\n",
            "---------\n"
          ],
          "name": "stdout"
        },
        {
          "output_type": "stream",
          "text": [
            "Loss=0.02 Accuracy=96.62: 100%|██████████| 1563/1563 [00:45<00:00, 34.63it/s]\n",
            "  0%|          | 0/1563 [00:00<?, ?it/s]"
          ],
          "name": "stderr"
        },
        {
          "output_type": "stream",
          "text": [
            "Testing: Average loss: 0.0178, Accuracy: 8355/10000 (83.55%)\n",
            "\n",
            "lr=  0.0001241566552647785\n",
            "Epoch 20:\n",
            "---------\n"
          ],
          "name": "stdout"
        },
        {
          "output_type": "stream",
          "text": [
            "Loss=0.03 Accuracy=96.93: 100%|██████████| 1563/1563 [00:44<00:00, 34.82it/s]\n",
            "  0%|          | 0/1563 [00:00<?, ?it/s]"
          ],
          "name": "stderr"
        },
        {
          "output_type": "stream",
          "text": [
            "Testing: Average loss: 0.0176, Accuracy: 8388/10000 (83.88%)\n",
            "\n",
            "lr=  0.0001241566552647785\n",
            "Epoch 21:\n",
            "---------\n"
          ],
          "name": "stdout"
        },
        {
          "output_type": "stream",
          "text": [
            "Loss=0.05 Accuracy=97.22: 100%|██████████| 1563/1563 [00:44<00:00, 34.74it/s]\n",
            "  0%|          | 0/1563 [00:00<?, ?it/s]"
          ],
          "name": "stderr"
        },
        {
          "output_type": "stream",
          "text": [
            "Testing: Average loss: 0.0185, Accuracy: 8338/10000 (83.38%)\n",
            "\n",
            "lr=  6.207832763238925e-05\n",
            "Epoch 22:\n",
            "---------\n"
          ],
          "name": "stdout"
        },
        {
          "output_type": "stream",
          "text": [
            "Loss=0.01 Accuracy=97.91: 100%|██████████| 1563/1563 [00:44<00:00, 34.92it/s]\n",
            "  0%|          | 0/1563 [00:00<?, ?it/s]"
          ],
          "name": "stderr"
        },
        {
          "output_type": "stream",
          "text": [
            "Testing: Average loss: 0.0175, Accuracy: 8426/10000 (84.26%)\n",
            "\n",
            "lr=  6.207832763238925e-05\n",
            "Epoch 23:\n",
            "---------\n"
          ],
          "name": "stdout"
        },
        {
          "output_type": "stream",
          "text": [
            "Loss=0.04 Accuracy=98.13: 100%|██████████| 1563/1563 [00:44<00:00, 34.78it/s]\n",
            "  0%|          | 0/1563 [00:00<?, ?it/s]"
          ],
          "name": "stderr"
        },
        {
          "output_type": "stream",
          "text": [
            "Testing: Average loss: 0.0178, Accuracy: 8440/10000 (84.40%)\n",
            "\n",
            "lr=  6.207832763238925e-05\n",
            "Epoch 24:\n",
            "---------\n"
          ],
          "name": "stdout"
        },
        {
          "output_type": "stream",
          "text": [
            "Loss=0.02 Accuracy=98.24: 100%|██████████| 1563/1563 [00:45<00:00, 34.67it/s]\n",
            "  0%|          | 0/1563 [00:00<?, ?it/s]"
          ],
          "name": "stderr"
        },
        {
          "output_type": "stream",
          "text": [
            "Testing: Average loss: 0.0179, Accuracy: 8401/10000 (84.01%)\n",
            "\n",
            "lr=  6.207832763238925e-05\n",
            "Epoch 25:\n",
            "---------\n"
          ],
          "name": "stdout"
        },
        {
          "output_type": "stream",
          "text": [
            "Loss=0.00 Accuracy=98.45: 100%|██████████| 1563/1563 [00:44<00:00, 34.74it/s]\n",
            "  0%|          | 0/1563 [00:00<?, ?it/s]"
          ],
          "name": "stderr"
        },
        {
          "output_type": "stream",
          "text": [
            "Testing: Average loss: 0.0181, Accuracy: 8411/10000 (84.11%)\n",
            "\n",
            "lr=  3.1039163816194624e-05\n",
            "Epoch 26:\n",
            "---------\n"
          ],
          "name": "stdout"
        },
        {
          "output_type": "stream",
          "text": [
            "Loss=0.01 Accuracy=98.68: 100%|██████████| 1563/1563 [00:44<00:00, 34.82it/s]\n",
            "  0%|          | 0/1563 [00:00<?, ?it/s]"
          ],
          "name": "stderr"
        },
        {
          "output_type": "stream",
          "text": [
            "Testing: Average loss: 0.0178, Accuracy: 8439/10000 (84.39%)\n",
            "\n",
            "lr=  3.1039163816194624e-05\n",
            "Epoch 27:\n",
            "---------\n"
          ],
          "name": "stdout"
        },
        {
          "output_type": "stream",
          "text": [
            "Loss=0.01 Accuracy=98.69: 100%|██████████| 1563/1563 [00:44<00:00, 34.78it/s]\n",
            "  0%|          | 0/1563 [00:00<?, ?it/s]"
          ],
          "name": "stderr"
        },
        {
          "output_type": "stream",
          "text": [
            "Testing: Average loss: 0.0178, Accuracy: 8440/10000 (84.40%)\n",
            "\n",
            "lr=  3.1039163816194624e-05\n",
            "Epoch 28:\n",
            "---------\n"
          ],
          "name": "stdout"
        },
        {
          "output_type": "stream",
          "text": [
            "Loss=0.04 Accuracy=98.88: 100%|██████████| 1563/1563 [00:44<00:00, 34.93it/s]\n",
            "  0%|          | 0/1563 [00:00<?, ?it/s]"
          ],
          "name": "stderr"
        },
        {
          "output_type": "stream",
          "text": [
            "Testing: Average loss: 0.0177, Accuracy: 8412/10000 (84.12%)\n",
            "\n",
            "lr=  3.1039163816194624e-05\n",
            "Epoch 29:\n",
            "---------\n"
          ],
          "name": "stdout"
        },
        {
          "output_type": "stream",
          "text": [
            "Loss=0.02 Accuracy=98.83: 100%|██████████| 1563/1563 [00:44<00:00, 34.89it/s]\n",
            "  0%|          | 0/1563 [00:00<?, ?it/s]"
          ],
          "name": "stderr"
        },
        {
          "output_type": "stream",
          "text": [
            "Testing: Average loss: 0.0178, Accuracy: 8440/10000 (84.40%)\n",
            "\n",
            "lr=  1.5519581908097312e-05\n",
            "Epoch 30:\n",
            "---------\n"
          ],
          "name": "stdout"
        },
        {
          "output_type": "stream",
          "text": [
            "Loss=0.01 Accuracy=98.89: 100%|██████████| 1563/1563 [00:44<00:00, 34.84it/s]\n",
            "  0%|          | 0/1563 [00:00<?, ?it/s]"
          ],
          "name": "stderr"
        },
        {
          "output_type": "stream",
          "text": [
            "Testing: Average loss: 0.0177, Accuracy: 8434/10000 (84.34%)\n",
            "\n",
            "lr=  1.5519581908097312e-05\n",
            "Epoch 31:\n",
            "---------\n"
          ],
          "name": "stdout"
        },
        {
          "output_type": "stream",
          "text": [
            "Loss=0.00 Accuracy=98.89: 100%|██████████| 1563/1563 [00:44<00:00, 34.80it/s]\n",
            "  0%|          | 0/1563 [00:00<?, ?it/s]"
          ],
          "name": "stderr"
        },
        {
          "output_type": "stream",
          "text": [
            "Testing: Average loss: 0.0177, Accuracy: 8456/10000 (84.56%)\n",
            "\n",
            "lr=  1.5519581908097312e-05\n",
            "Epoch 32:\n",
            "---------\n"
          ],
          "name": "stdout"
        },
        {
          "output_type": "stream",
          "text": [
            "Loss=0.04 Accuracy=98.99: 100%|██████████| 1563/1563 [00:45<00:00, 34.59it/s]\n",
            "  0%|          | 0/1563 [00:00<?, ?it/s]"
          ],
          "name": "stderr"
        },
        {
          "output_type": "stream",
          "text": [
            "Testing: Average loss: 0.0178, Accuracy: 8444/10000 (84.44%)\n",
            "\n",
            "lr=  1.5519581908097312e-05\n",
            "Epoch 33:\n",
            "---------\n"
          ],
          "name": "stdout"
        },
        {
          "output_type": "stream",
          "text": [
            "Loss=0.08 Accuracy=98.97: 100%|██████████| 1563/1563 [00:44<00:00, 34.75it/s]\n",
            "  0%|          | 0/1563 [00:00<?, ?it/s]"
          ],
          "name": "stderr"
        },
        {
          "output_type": "stream",
          "text": [
            "Testing: Average loss: 0.0179, Accuracy: 8455/10000 (84.55%)\n",
            "\n",
            "lr=  7.759790954048656e-06\n",
            "Epoch 34:\n",
            "---------\n"
          ],
          "name": "stdout"
        },
        {
          "output_type": "stream",
          "text": [
            "Loss=0.01 Accuracy=99.03: 100%|██████████| 1563/1563 [00:45<00:00, 34.62it/s]\n",
            "  0%|          | 0/1563 [00:00<?, ?it/s]"
          ],
          "name": "stderr"
        },
        {
          "output_type": "stream",
          "text": [
            "Testing: Average loss: 0.0178, Accuracy: 8462/10000 (84.62%)\n",
            "\n",
            "lr=  7.759790954048656e-06\n",
            "Epoch 35:\n",
            "---------\n"
          ],
          "name": "stdout"
        },
        {
          "output_type": "stream",
          "text": [
            "Loss=0.04 Accuracy=99.08:  81%|████████▏ | 1270/1563 [00:36<00:08, 35.06it/s]"
          ],
          "name": "stderr"
        }
      ]
    },
    {
      "cell_type": "code",
      "metadata": {
        "id": "91JUlKqq45aU",
        "colab_type": "code",
        "colab": {}
      },
      "source": [
        ""
      ],
      "execution_count": 0,
      "outputs": []
    },
    {
      "cell_type": "code",
      "metadata": {
        "id": "0nNwwF1zLWVj",
        "colab_type": "code",
        "colab": {}
      },
      "source": [
        "classes = ('plane', 'car', 'bird', 'cat',\n",
        "           'deer', 'dog', 'frog', 'horse', 'ship', 'truck')"
      ],
      "execution_count": 0,
      "outputs": []
    },
    {
      "cell_type": "code",
      "metadata": {
        "id": "LYOrePZoLWN3",
        "colab_type": "code",
        "colab": {}
      },
      "source": [
        "import warnings\n",
        "warnings.simplefilter('ignore')\n",
        "it = iter(gradcam_dataloader)\n",
        "fig=plt.figure(figsize=(14, 16))\n",
        "count = 0\n",
        "while(count != 2):\n",
        "    images, labels = it.next()\n",
        "    output = Net(images.cuda())\n",
        "    pred = output.argmax(dim=1, keepdim=True)\n",
        "    if(classes[pred] != classes[labels]):\n",
        "      plot_grad.get_gradcam(Net, images, classes, str(classes[labels]), str(classes[pred]))\n",
        "      count=count+1"
      ],
      "execution_count": 0,
      "outputs": []
    },
    {
      "cell_type": "code",
      "metadata": {
        "id": "hjnKZ3WgO0dS",
        "colab_type": "code",
        "colab": {}
      },
      "source": [
        "helper.plot_acc_graph(train_acc, test_acc, epochs)"
      ],
      "execution_count": 0,
      "outputs": []
    },
    {
      "cell_type": "code",
      "metadata": {
        "id": "y9Ze49NFVUxd",
        "colab_type": "code",
        "colab": {}
      },
      "source": [
        "helper.plot_loss_graph(trainloss_, testloss_, epochs)"
      ],
      "execution_count": 0,
      "outputs": []
    },
    {
      "cell_type": "code",
      "metadata": {
        "id": "rbb5RCLUV2mg",
        "colab_type": "code",
        "colab": {}
      },
      "source": [
        ""
      ],
      "execution_count": 0,
      "outputs": []
    }
  ]
}